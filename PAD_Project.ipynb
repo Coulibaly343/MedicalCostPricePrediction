{
 "cells": [
  {
   "cell_type": "markdown",
   "id": "8663dd2f",
   "metadata": {},
   "source": [
    "# Insurance price prediction using neural network "
   ]
  },
  {
   "cell_type": "markdown",
   "id": "da5a6d88",
   "metadata": {},
   "source": [
    "##### Data analysis with seaborn and matplotlib. Neural network built with keras and linear regression with sklearn\n",
    "##### DataSet https://www.kaggle.com/mirichoi0218/insurance \n"
   ]
  },
  {
   "cell_type": "markdown",
   "id": "9c2c3959",
   "metadata": {},
   "source": [
    "### Imports"
   ]
  },
  {
   "cell_type": "code",
   "execution_count": 134,
   "id": "40ddc2d8",
   "metadata": {},
   "outputs": [],
   "source": [
    "import pandas as pd\n",
    "import numpy as np\n",
    "import matplotlib\n",
    "import matplotlib.pyplot as plt \n",
    "import seaborn as sns \n",
    "import tensorflow as tf\n",
    "from sklearn.compose import make_column_transformer\n",
    "from sklearn.preprocessing import MinMaxScaler,LabelEncoder, OneHotEncoder\n",
    "from sklearn.model_selection import train_test_split\n",
    "from sklearn.linear_model import LinearRegression\n",
    "from sklearn import metrics"
   ]
  },
  {
   "cell_type": "markdown",
   "id": "f0be5e7c",
   "metadata": {},
   "source": [
    "### Load file "
   ]
  },
  {
   "cell_type": "code",
   "execution_count": 135,
   "id": "0b44e054",
   "metadata": {},
   "outputs": [],
   "source": [
    "insurance_df = pd.read_csv(\"insurance.csv\")"
   ]
  },
  {
   "cell_type": "markdown",
   "id": "b53c4c8f",
   "metadata": {},
   "source": [
    "### Data overview"
   ]
  },
  {
   "cell_type": "code",
   "execution_count": 136,
   "id": "76c151a3",
   "metadata": {},
   "outputs": [
    {
     "name": "stdout",
     "output_type": "stream",
     "text": [
      "There are 1,338 observations and 7 columns in the data set.\n",
      "There are 0 missing values in the data.\n"
     ]
    }
   ],
   "source": [
    "print(\"There are {:,} observations and {} columns in the data set.\".format(insurance_df.shape[0], insurance_df.shape[1]))\n",
    "print(\"There are {} missing values in the data.\".format(insurance_df.isna().sum().sum()))"
   ]
  },
  {
   "cell_type": "code",
   "execution_count": 137,
   "id": "7cee59d2",
   "metadata": {},
   "outputs": [
    {
     "data": {
      "text/html": [
       "<div>\n",
       "<style scoped>\n",
       "    .dataframe tbody tr th:only-of-type {\n",
       "        vertical-align: middle;\n",
       "    }\n",
       "\n",
       "    .dataframe tbody tr th {\n",
       "        vertical-align: top;\n",
       "    }\n",
       "\n",
       "    .dataframe thead th {\n",
       "        text-align: right;\n",
       "    }\n",
       "</style>\n",
       "<table border=\"1\" class=\"dataframe\">\n",
       "  <thead>\n",
       "    <tr style=\"text-align: right;\">\n",
       "      <th></th>\n",
       "      <th>count</th>\n",
       "      <th>mean</th>\n",
       "      <th>std</th>\n",
       "      <th>min</th>\n",
       "      <th>25%</th>\n",
       "      <th>50%</th>\n",
       "      <th>75%</th>\n",
       "      <th>max</th>\n",
       "    </tr>\n",
       "  </thead>\n",
       "  <tbody>\n",
       "    <tr>\n",
       "      <th>age</th>\n",
       "      <td>1338.0</td>\n",
       "      <td>39.207025</td>\n",
       "      <td>14.049960</td>\n",
       "      <td>18.0000</td>\n",
       "      <td>27.00000</td>\n",
       "      <td>39.000</td>\n",
       "      <td>51.000000</td>\n",
       "      <td>64.00000</td>\n",
       "    </tr>\n",
       "    <tr>\n",
       "      <th>bmi</th>\n",
       "      <td>1338.0</td>\n",
       "      <td>30.663397</td>\n",
       "      <td>6.098187</td>\n",
       "      <td>15.9600</td>\n",
       "      <td>26.29625</td>\n",
       "      <td>30.400</td>\n",
       "      <td>34.693750</td>\n",
       "      <td>53.13000</td>\n",
       "    </tr>\n",
       "    <tr>\n",
       "      <th>children</th>\n",
       "      <td>1338.0</td>\n",
       "      <td>1.094918</td>\n",
       "      <td>1.205493</td>\n",
       "      <td>0.0000</td>\n",
       "      <td>0.00000</td>\n",
       "      <td>1.000</td>\n",
       "      <td>2.000000</td>\n",
       "      <td>5.00000</td>\n",
       "    </tr>\n",
       "    <tr>\n",
       "      <th>charges</th>\n",
       "      <td>1338.0</td>\n",
       "      <td>13270.422265</td>\n",
       "      <td>12110.011237</td>\n",
       "      <td>1121.8739</td>\n",
       "      <td>4740.28715</td>\n",
       "      <td>9382.033</td>\n",
       "      <td>16639.912515</td>\n",
       "      <td>63770.42801</td>\n",
       "    </tr>\n",
       "  </tbody>\n",
       "</table>\n",
       "</div>"
      ],
      "text/plain": [
       "           count          mean           std        min         25%       50%  \\\n",
       "age       1338.0     39.207025     14.049960    18.0000    27.00000    39.000   \n",
       "bmi       1338.0     30.663397      6.098187    15.9600    26.29625    30.400   \n",
       "children  1338.0      1.094918      1.205493     0.0000     0.00000     1.000   \n",
       "charges   1338.0  13270.422265  12110.011237  1121.8739  4740.28715  9382.033   \n",
       "\n",
       "                   75%          max  \n",
       "age          51.000000     64.00000  \n",
       "bmi          34.693750     53.13000  \n",
       "children      2.000000      5.00000  \n",
       "charges   16639.912515  63770.42801  "
      ]
     },
     "execution_count": 137,
     "metadata": {},
     "output_type": "execute_result"
    }
   ],
   "source": [
    "insurance_df.describe().T"
   ]
  },
  {
   "cell_type": "code",
   "execution_count": 138,
   "id": "29a4c5dc",
   "metadata": {},
   "outputs": [
    {
     "data": {
      "text/html": [
       "<div>\n",
       "<style scoped>\n",
       "    .dataframe tbody tr th:only-of-type {\n",
       "        vertical-align: middle;\n",
       "    }\n",
       "\n",
       "    .dataframe tbody tr th {\n",
       "        vertical-align: top;\n",
       "    }\n",
       "\n",
       "    .dataframe thead th {\n",
       "        text-align: right;\n",
       "    }\n",
       "</style>\n",
       "<table border=\"1\" class=\"dataframe\">\n",
       "  <thead>\n",
       "    <tr style=\"text-align: right;\">\n",
       "      <th></th>\n",
       "      <th>age</th>\n",
       "      <th>sex</th>\n",
       "      <th>bmi</th>\n",
       "      <th>children</th>\n",
       "      <th>smoker</th>\n",
       "      <th>region</th>\n",
       "      <th>charges</th>\n",
       "    </tr>\n",
       "  </thead>\n",
       "  <tbody>\n",
       "    <tr>\n",
       "      <th>0</th>\n",
       "      <td>19</td>\n",
       "      <td>female</td>\n",
       "      <td>27.900</td>\n",
       "      <td>0</td>\n",
       "      <td>yes</td>\n",
       "      <td>southwest</td>\n",
       "      <td>16884.92400</td>\n",
       "    </tr>\n",
       "    <tr>\n",
       "      <th>1</th>\n",
       "      <td>18</td>\n",
       "      <td>male</td>\n",
       "      <td>33.770</td>\n",
       "      <td>1</td>\n",
       "      <td>no</td>\n",
       "      <td>southeast</td>\n",
       "      <td>1725.55230</td>\n",
       "    </tr>\n",
       "    <tr>\n",
       "      <th>2</th>\n",
       "      <td>28</td>\n",
       "      <td>male</td>\n",
       "      <td>33.000</td>\n",
       "      <td>3</td>\n",
       "      <td>no</td>\n",
       "      <td>southeast</td>\n",
       "      <td>4449.46200</td>\n",
       "    </tr>\n",
       "    <tr>\n",
       "      <th>3</th>\n",
       "      <td>33</td>\n",
       "      <td>male</td>\n",
       "      <td>22.705</td>\n",
       "      <td>0</td>\n",
       "      <td>no</td>\n",
       "      <td>northwest</td>\n",
       "      <td>21984.47061</td>\n",
       "    </tr>\n",
       "    <tr>\n",
       "      <th>4</th>\n",
       "      <td>32</td>\n",
       "      <td>male</td>\n",
       "      <td>28.880</td>\n",
       "      <td>0</td>\n",
       "      <td>no</td>\n",
       "      <td>northwest</td>\n",
       "      <td>3866.85520</td>\n",
       "    </tr>\n",
       "  </tbody>\n",
       "</table>\n",
       "</div>"
      ],
      "text/plain": [
       "   age     sex     bmi  children smoker     region      charges\n",
       "0   19  female  27.900         0    yes  southwest  16884.92400\n",
       "1   18    male  33.770         1     no  southeast   1725.55230\n",
       "2   28    male  33.000         3     no  southeast   4449.46200\n",
       "3   33    male  22.705         0     no  northwest  21984.47061\n",
       "4   32    male  28.880         0     no  northwest   3866.85520"
      ]
     },
     "execution_count": 138,
     "metadata": {},
     "output_type": "execute_result"
    }
   ],
   "source": [
    "insurance_df.head()"
   ]
  },
  {
   "cell_type": "code",
   "execution_count": 139,
   "id": "5661546c",
   "metadata": {},
   "outputs": [
    {
     "data": {
      "text/html": [
       "<style type=\"text/css\">\n",
       "</style>\n",
       "<table id=\"T_29518_\">\n",
       "  <caption>Variable: sex</caption>\n",
       "  <thead>\n",
       "    <tr>\n",
       "      <th class=\"blank level0\" >&nbsp;</th>\n",
       "      <th class=\"col_heading level0 col0\" >Number of policy holders</th>\n",
       "      <th class=\"col_heading level0 col1\" >Average Cost</th>\n",
       "    </tr>\n",
       "  </thead>\n",
       "  <tbody>\n",
       "    <tr>\n",
       "      <th id=\"T_29518_level0_row0\" class=\"row_heading level0 row0\" >male</th>\n",
       "      <td id=\"T_29518_row0_col0\" class=\"data row0 col0\" >676</td>\n",
       "      <td id=\"T_29518_row0_col1\" class=\"data row0 col1\" >$13,956.75</td>\n",
       "    </tr>\n",
       "    <tr>\n",
       "      <th id=\"T_29518_level0_row1\" class=\"row_heading level0 row1\" >female</th>\n",
       "      <td id=\"T_29518_row1_col0\" class=\"data row1 col0\" >662</td>\n",
       "      <td id=\"T_29518_row1_col1\" class=\"data row1 col1\" >$12,569.58</td>\n",
       "    </tr>\n",
       "  </tbody>\n",
       "</table>\n"
      ],
      "text/plain": [
       "<pandas.io.formats.style.Styler at 0x2b4a6dc8f10>"
      ]
     },
     "metadata": {},
     "output_type": "display_data"
    },
    {
     "data": {
      "text/html": [
       "<style type=\"text/css\">\n",
       "</style>\n",
       "<table id=\"T_f1370_\">\n",
       "  <caption>Variable: smoker</caption>\n",
       "  <thead>\n",
       "    <tr>\n",
       "      <th class=\"blank level0\" >&nbsp;</th>\n",
       "      <th class=\"col_heading level0 col0\" >Number of policy holders</th>\n",
       "      <th class=\"col_heading level0 col1\" >Average Cost</th>\n",
       "    </tr>\n",
       "  </thead>\n",
       "  <tbody>\n",
       "    <tr>\n",
       "      <th id=\"T_f1370_level0_row0\" class=\"row_heading level0 row0\" >no</th>\n",
       "      <td id=\"T_f1370_row0_col0\" class=\"data row0 col0\" >1064</td>\n",
       "      <td id=\"T_f1370_row0_col1\" class=\"data row0 col1\" >$8,434.27</td>\n",
       "    </tr>\n",
       "    <tr>\n",
       "      <th id=\"T_f1370_level0_row1\" class=\"row_heading level0 row1\" >yes</th>\n",
       "      <td id=\"T_f1370_row1_col0\" class=\"data row1 col0\" >274</td>\n",
       "      <td id=\"T_f1370_row1_col1\" class=\"data row1 col1\" >$32,050.23</td>\n",
       "    </tr>\n",
       "  </tbody>\n",
       "</table>\n"
      ],
      "text/plain": [
       "<pandas.io.formats.style.Styler at 0x2b4a9a149a0>"
      ]
     },
     "metadata": {},
     "output_type": "display_data"
    },
    {
     "data": {
      "text/html": [
       "<style type=\"text/css\">\n",
       "</style>\n",
       "<table id=\"T_44241_\">\n",
       "  <caption>Variable: region</caption>\n",
       "  <thead>\n",
       "    <tr>\n",
       "      <th class=\"blank level0\" >&nbsp;</th>\n",
       "      <th class=\"col_heading level0 col0\" >Number of policy holders</th>\n",
       "      <th class=\"col_heading level0 col1\" >Average Cost</th>\n",
       "    </tr>\n",
       "  </thead>\n",
       "  <tbody>\n",
       "    <tr>\n",
       "      <th id=\"T_44241_level0_row0\" class=\"row_heading level0 row0\" >southeast</th>\n",
       "      <td id=\"T_44241_row0_col0\" class=\"data row0 col0\" >364</td>\n",
       "      <td id=\"T_44241_row0_col1\" class=\"data row0 col1\" >$14,735.41</td>\n",
       "    </tr>\n",
       "    <tr>\n",
       "      <th id=\"T_44241_level0_row1\" class=\"row_heading level0 row1\" >northwest</th>\n",
       "      <td id=\"T_44241_row1_col0\" class=\"data row1 col0\" >325</td>\n",
       "      <td id=\"T_44241_row1_col1\" class=\"data row1 col1\" >$12,417.58</td>\n",
       "    </tr>\n",
       "    <tr>\n",
       "      <th id=\"T_44241_level0_row2\" class=\"row_heading level0 row2\" >southwest</th>\n",
       "      <td id=\"T_44241_row2_col0\" class=\"data row2 col0\" >325</td>\n",
       "      <td id=\"T_44241_row2_col1\" class=\"data row2 col1\" >$12,346.94</td>\n",
       "    </tr>\n",
       "    <tr>\n",
       "      <th id=\"T_44241_level0_row3\" class=\"row_heading level0 row3\" >northeast</th>\n",
       "      <td id=\"T_44241_row3_col0\" class=\"data row3 col0\" >324</td>\n",
       "      <td id=\"T_44241_row3_col1\" class=\"data row3 col1\" >$13,406.38</td>\n",
       "    </tr>\n",
       "  </tbody>\n",
       "</table>\n"
      ],
      "text/plain": [
       "<pandas.io.formats.style.Styler at 0x2b4a5905fa0>"
      ]
     },
     "metadata": {},
     "output_type": "display_data"
    }
   ],
   "source": [
    "cat=insurance_df.select_dtypes(include=['object']).columns.tolist()\n",
    "for i in cat:\n",
    "    obs=insurance_df[i].value_counts()\n",
    "    avg_cost=insurance_df.groupby(i)[\"charges\"].mean()\n",
    "    display(pd.DataFrame({\"Number of policy holders\":obs, \"Average Cost\":avg_cost.map('${:,.2f}'.format)})\\\n",
    "            .sort_values('Number of policy holders', ascending=False)\\\n",
    "            .style.set_caption(\"Variable: {}\".format(i)))"
   ]
  },
  {
   "cell_type": "markdown",
   "id": "7c8db3a3",
   "metadata": {},
   "source": [
    "### Exploratory Data Analysis "
   ]
  },
  {
   "cell_type": "code",
   "execution_count": 140,
   "id": "da002668",
   "metadata": {},
   "outputs": [
    {
     "data": {
      "text/plain": [
       "(['smoker', 'region', 'sex'],\n",
       " Index(['age', 'bmi', 'children', 'charges'], dtype='object'))"
      ]
     },
     "execution_count": 140,
     "metadata": {},
     "output_type": "execute_result"
    }
   ],
   "source": [
    "cols = insurance_df.columns\n",
    "\n",
    "num_cols = insurance_df._get_numeric_data().columns\n",
    "num_cols\n",
    "\n",
    "categorical_col = list(set(cols) - set(num_cols))\n",
    "categorical_col,num_cols"
   ]
  },
  {
   "cell_type": "code",
   "execution_count": 141,
   "id": "31157785",
   "metadata": {},
   "outputs": [
    {
     "data": {
      "text/plain": [
       "<AxesSubplot:xlabel='sex', ylabel='charges'>"
      ]
     },
     "execution_count": 141,
     "metadata": {},
     "output_type": "execute_result"
    },
    {
     "data": {
      "image/png": "[encoded data removed]",
      "text/plain": [
       "<Figure size 432x288 with 1 Axes>"
      ]
     },
     "metadata": {
      "needs_background": "light"
     },
     "output_type": "display_data"
    },
    {
     "data": {
      "image/png": "[encoded data removed]",
      "text/plain": [
       "<Figure size 432x288 with 1 Axes>"
      ]
     },
     "metadata": {
      "needs_background": "light"
     },
     "output_type": "display_data"
    },
    {
     "data": {
      "image/png": "[encoded data removed]",
      "text/plain": [
       "<Figure size 432x288 with 1 Axes>"
      ]
     },
     "metadata": {
      "needs_background": "light"
     },
     "output_type": "display_data"
    },
    {
     "data": {
      "image/png": "[encoded data removed]",
      "text/plain": [
       "<Figure size 432x288 with 1 Axes>"
      ]
     },
     "metadata": {
      "needs_background": "light"
     },
     "output_type": "display_data"
    }
   ],
   "source": [
    "for i in categorical_col:\n",
    "    plt.figure()\n",
    "    sns.barplot(x=i,y='charges',data=insurance_df,palette=\"rocket\")\n",
    "plt.figure()\n",
    "sns.barplot(x='sex',y='charges',hue='smoker',data=insurance_df,palette='rocket')"
   ]
  },
  {
   "cell_type": "markdown",
   "id": "6cb39ab8",
   "metadata": {},
   "source": [
    "##### Based on the data analysis we can see that smoking has big impact on charge, male tend to be charged more than woman. The region which have the most charges is the southeast"
   ]
  },
  {
   "cell_type": "code",
   "execution_count": 142,
   "id": "0a538d95",
   "metadata": {},
   "outputs": [
    {
     "data": {
      "image/png": "[encoded data removed]",
      "text/plain": [
       "<Figure size 432x288 with 1 Axes>"
      ]
     },
     "metadata": {
      "needs_background": "light"
     },
     "output_type": "display_data"
    },
    {
     "data": {
      "image/png": "[encoded data removed]",
      "text/plain": [
       "<Figure size 432x288 with 1 Axes>"
      ]
     },
     "metadata": {
      "needs_background": "light"
     },
     "output_type": "display_data"
    },
    {
     "data": {
      "image/png": "[encoded data removed]",
      "text/plain": [
       "<Figure size 432x288 with 1 Axes>"
      ]
     },
     "metadata": {
      "needs_background": "light"
     },
     "output_type": "display_data"
    },
    {
     "data": {
      "image/png": "[encoded data removed]",
      "text/plain": [
       "<Figure size 432x288 with 1 Axes>"
      ]
     },
     "metadata": {
      "needs_background": "light"
     },
     "output_type": "display_data"
    }
   ],
   "source": [
    "for i in num_cols:\n",
    "    plt.figure()\n",
    "    sns.lineplot(data=insurance_df, x=i, y=\"charges\",hue='smoker')"
   ]
  },
  {
   "cell_type": "code",
   "execution_count": 143,
   "id": "a9e8e3fa",
   "metadata": {},
   "outputs": [
    {
     "data": {
      "text/plain": [
       "<AxesSubplot:>"
      ]
     },
     "execution_count": 143,
     "metadata": {},
     "output_type": "execute_result"
    },
    {
     "data": {
      "image/png": "[encoded data removed]",
      "text/plain": [
       "<Figure size 432x288 with 2 Axes>"
      ]
     },
     "metadata": {
      "needs_background": "light"
     },
     "output_type": "display_data"
    }
   ],
   "source": [
    "sns.heatmap(insurance_df.corr(),cmap=\"Blues\")"
   ]
  },
  {
   "cell_type": "markdown",
   "id": "496c9623",
   "metadata": {},
   "source": [
    "##### We can observe that the charge tend to increase with age. People with more than one children are charged less than people with one children. "
   ]
  },
  {
   "cell_type": "markdown",
   "id": "0b28f5b6",
   "metadata": {},
   "source": [
    "### Data preparation for model traning "
   ]
  },
  {
   "cell_type": "code",
   "execution_count": 144,
   "id": "7f81b0a6",
   "metadata": {},
   "outputs": [],
   "source": [
    "#  Transform colum\n",
    "ct = make_column_transformer(\n",
    "    (MinMaxScaler(),['age','bmi','children']),\n",
    "    (OneHotEncoder(handle_unknown=\"ignore\"),['sex','smoker','region'])\n",
    ")\n",
    "\n",
    "# Define X and Y \n",
    "X = insurance_df.iloc[:,0:6]\n",
    "y = insurance_df.iloc[:,6]\n",
    "\n",
    "# Train and input data split \n",
    "x_train,x_test,y_train,y_test = train_test_split(X,y,test_size=0.2,random_state=42)\n",
    "\n",
    "ct.fit(x_train)\n",
    "\n",
    "# Transform training and test data with normalization\n",
    "x_train_normal = ct.transform(x_train)\n",
    "x_test_normal = ct.transform(x_test)\n"
   ]
  },
  {
   "cell_type": "markdown",
   "id": "0f6d03c5",
   "metadata": {},
   "source": [
    "## Neural network "
   ]
  },
  {
   "cell_type": "markdown",
   "id": "2e15808c",
   "metadata": {},
   "source": [
    "### Neural network model "
   ]
  },
  {
   "cell_type": "code",
   "execution_count": 145,
   "id": "bb50e067",
   "metadata": {},
   "outputs": [],
   "source": [
    "model = tf.keras.Sequential([\n",
    "      tf.keras.layers.Dense(10),\n",
    "      tf.keras.layers.Dense(10),\n",
    "      tf.keras.layers.Dense(1),\n",
    "])"
   ]
  },
  {
   "cell_type": "markdown",
   "id": "45e98767",
   "metadata": {},
   "source": [
    "### Compile model "
   ]
  },
  {
   "cell_type": "code",
   "execution_count": 146,
   "id": "e4c66a15",
   "metadata": {
    "scrolled": true
   },
   "outputs": [
    {
     "name": "stdout",
     "output_type": "stream",
     "text": [
      "Epoch 1/200\n",
      "34/34 [==============================] - 0s 1ms/step - loss: 13345.8545 - mae: 13345.8545\n",
      "Epoch 2/200\n",
      "34/34 [==============================] - 0s 2ms/step - loss: 13344.7764 - mae: 13344.7764\n",
      "Epoch 3/200\n",
      "34/34 [==============================] - 0s 2ms/step - loss: 13342.9521 - mae: 13342.9521\n",
      "Epoch 4/200\n",
      "34/34 [==============================] - 0s 2ms/step - loss: 13339.5586 - mae: 13339.5586\n",
      "Epoch 5/200\n",
      "34/34 [==============================] - 0s 2ms/step - loss: 13333.4863 - mae: 13333.4863\n",
      "Epoch 6/200\n",
      "34/34 [==============================] - 0s 2ms/step - loss: 13323.4375 - mae: 13323.4375\n",
      "Epoch 7/200\n",
      "34/34 [==============================] - 0s 1ms/step - loss: 13308.1729 - mae: 13308.1729\n",
      "Epoch 8/200\n",
      "34/34 [==============================] - 0s 1ms/step - loss: 13286.5850 - mae: 13286.5850\n",
      "Epoch 9/200\n",
      "34/34 [==============================] - 0s 1ms/step - loss: 13257.6631 - mae: 13257.6631\n",
      "Epoch 10/200\n",
      "34/34 [==============================] - 0s 2ms/step - loss: 13220.3643 - mae: 13220.3643\n",
      "Epoch 11/200\n",
      "34/34 [==============================] - 0s 2ms/step - loss: 13173.8320 - mae: 13173.8320\n",
      "Epoch 12/200\n",
      "34/34 [==============================] - 0s 2ms/step - loss: 13117.1094 - mae: 13117.1094\n",
      "Epoch 13/200\n",
      "34/34 [==============================] - 0s 1ms/step - loss: 13049.3477 - mae: 13049.3477\n",
      "Epoch 14/200\n",
      "34/34 [==============================] - 0s 1ms/step - loss: 12969.6777 - mae: 12969.6777\n",
      "Epoch 15/200\n",
      "34/34 [==============================] - 0s 2ms/step - loss: 12877.3584 - mae: 12877.3584\n",
      "Epoch 16/200\n",
      "34/34 [==============================] - 0s 2ms/step - loss: 12771.5234 - mae: 12771.5234\n",
      "Epoch 17/200\n",
      "34/34 [==============================] - 0s 2ms/step - loss: 12651.6152 - mae: 12651.6152\n",
      "Epoch 18/200\n",
      "34/34 [==============================] - 0s 2ms/step - loss: 12516.6084 - mae: 12516.6084\n",
      "Epoch 19/200\n",
      "34/34 [==============================] - 0s 2ms/step - loss: 12366.1523 - mae: 12366.1523\n",
      "Epoch 20/200\n",
      "34/34 [==============================] - 0s 2ms/step - loss: 12199.3340 - mae: 12199.3340\n",
      "Epoch 21/200\n",
      "34/34 [==============================] - 0s 2ms/step - loss: 12017.0166 - mae: 12017.0166\n",
      "Epoch 22/200\n",
      "34/34 [==============================] - 0s 1ms/step - loss: 11821.7373 - mae: 11821.7373\n",
      "Epoch 23/200\n",
      "34/34 [==============================] - 0s 1ms/step - loss: 11612.6113 - mae: 11612.6113\n",
      "Epoch 24/200\n",
      "34/34 [==============================] - 0s 1ms/step - loss: 11394.1943 - mae: 11394.1943\n",
      "Epoch 25/200\n",
      "34/34 [==============================] - 0s 2ms/step - loss: 11174.4951 - mae: 11174.4951\n",
      "Epoch 26/200\n",
      "34/34 [==============================] - 0s 1ms/step - loss: 10955.6094 - mae: 10955.6094\n",
      "Epoch 27/200\n",
      "34/34 [==============================] - 0s 1ms/step - loss: 10741.4170 - mae: 10741.4170\n",
      "Epoch 28/200\n",
      "34/34 [==============================] - 0s 1ms/step - loss: 10526.8779 - mae: 10526.8779\n",
      "Epoch 29/200\n",
      "34/34 [==============================] - 0s 1ms/step - loss: 10310.2734 - mae: 10310.2734\n",
      "Epoch 30/200\n",
      "34/34 [==============================] - 0s 1ms/step - loss: 10097.8975 - mae: 10097.8975\n",
      "Epoch 31/200\n",
      "34/34 [==============================] - 0s 1ms/step - loss: 9888.9893 - mae: 9888.9893\n",
      "Epoch 32/200\n",
      "34/34 [==============================] - 0s 1ms/step - loss: 9686.5576 - mae: 9686.5576\n",
      "Epoch 33/200\n",
      "34/34 [==============================] - 0s 1ms/step - loss: 9489.1797 - mae: 9489.1797\n",
      "Epoch 34/200\n",
      "34/34 [==============================] - 0s 1ms/step - loss: 9309.5000 - mae: 9309.5000\n",
      "Epoch 35/200\n",
      "34/34 [==============================] - 0s 1ms/step - loss: 9139.6064 - mae: 9139.6064\n",
      "Epoch 36/200\n",
      "34/34 [==============================] - 0s 1ms/step - loss: 8982.5049 - mae: 8982.5049\n",
      "Epoch 37/200\n",
      "34/34 [==============================] - 0s 1ms/step - loss: 8838.5107 - mae: 8838.5107\n",
      "Epoch 38/200\n",
      "34/34 [==============================] - 0s 1ms/step - loss: 8708.5000 - mae: 8708.5000\n",
      "Epoch 39/200\n",
      "34/34 [==============================] - 0s 2ms/step - loss: 8585.9609 - mae: 8585.9609\n",
      "Epoch 40/200\n",
      "34/34 [==============================] - 0s 1ms/step - loss: 8474.6416 - mae: 8474.6416\n",
      "Epoch 41/200\n",
      "34/34 [==============================] - 0s 1ms/step - loss: 8376.4600 - mae: 8376.4600\n",
      "Epoch 42/200\n",
      "34/34 [==============================] - 0s 1ms/step - loss: 8294.6943 - mae: 8294.6943\n",
      "Epoch 43/200\n",
      "34/34 [==============================] - 0s 1ms/step - loss: 8220.9346 - mae: 8220.9346\n",
      "Epoch 44/200\n",
      "34/34 [==============================] - 0s 2ms/step - loss: 8156.3784 - mae: 8156.3784\n",
      "Epoch 45/200\n",
      "34/34 [==============================] - 0s 1ms/step - loss: 8099.2114 - mae: 8099.2114\n",
      "Epoch 46/200\n",
      "34/34 [==============================] - 0s 1ms/step - loss: 8051.0522 - mae: 8051.0522\n",
      "Epoch 47/200\n",
      "34/34 [==============================] - 0s 1ms/step - loss: 8012.2383 - mae: 8012.2383\n",
      "Epoch 48/200\n",
      "34/34 [==============================] - 0s 1ms/step - loss: 7975.1880 - mae: 7975.1880\n",
      "Epoch 49/200\n",
      "34/34 [==============================] - 0s 1ms/step - loss: 7944.0972 - mae: 7944.0972\n",
      "Epoch 50/200\n",
      "34/34 [==============================] - 0s 2ms/step - loss: 7917.3579 - mae: 7917.3579\n",
      "Epoch 51/200\n",
      "34/34 [==============================] - 0s 1ms/step - loss: 7892.0635 - mae: 7892.0635\n",
      "Epoch 52/200\n",
      "34/34 [==============================] - 0s 1ms/step - loss: 7870.6289 - mae: 7870.6289\n",
      "Epoch 53/200\n",
      "34/34 [==============================] - ETA: 0s - loss: 8631.4746 - mae: 8631.474 - 0s 1ms/step - loss: 7848.7354 - mae: 7848.7354\n",
      "Epoch 54/200\n",
      "34/34 [==============================] - 0s 1ms/step - loss: 7828.7051 - mae: 7828.7051\n",
      "Epoch 55/200\n",
      "34/34 [==============================] - 0s 2ms/step - loss: 7809.8452 - mae: 7809.8452\n",
      "Epoch 56/200\n",
      "34/34 [==============================] - 0s 2ms/step - loss: 7790.0815 - mae: 7790.0815\n",
      "Epoch 57/200\n",
      "34/34 [==============================] - 0s 3ms/step - loss: 7771.8301 - mae: 7771.8301\n",
      "Epoch 58/200\n",
      "34/34 [==============================] - 0s 3ms/step - loss: 7753.1196 - mae: 7753.1196\n",
      "Epoch 59/200\n",
      "34/34 [==============================] - 0s 2ms/step - loss: 7734.6875 - mae: 7734.6875\n",
      "Epoch 60/200\n",
      "34/34 [==============================] - 0s 1ms/step - loss: 7717.4570 - mae: 7717.4570\n",
      "Epoch 61/200\n",
      "34/34 [==============================] - 0s 2ms/step - loss: 7699.5596 - mae: 7699.5596\n",
      "Epoch 62/200\n",
      "34/34 [==============================] - 0s 1ms/step - loss: 7682.4946 - mae: 7682.4946\n",
      "Epoch 63/200\n",
      "34/34 [==============================] - 0s 1ms/step - loss: 7664.8574 - mae: 7664.8574\n",
      "Epoch 64/200\n",
      "34/34 [==============================] - 0s 1ms/step - loss: 7647.8193 - mae: 7647.8193\n",
      "Epoch 65/200\n",
      "34/34 [==============================] - 0s 1ms/step - loss: 7630.3218 - mae: 7630.3218\n",
      "Epoch 66/200\n",
      "34/34 [==============================] - 0s 2ms/step - loss: 7613.2104 - mae: 7613.2104\n",
      "Epoch 67/200\n",
      "34/34 [==============================] - 0s 2ms/step - loss: 7595.3525 - mae: 7595.3525\n",
      "Epoch 68/200\n",
      "34/34 [==============================] - 0s 2ms/step - loss: 7577.3457 - mae: 7577.3457\n",
      "Epoch 69/200\n",
      "34/34 [==============================] - 0s 2ms/step - loss: 7560.1143 - mae: 7560.1143\n",
      "Epoch 70/200\n",
      "34/34 [==============================] - 0s 2ms/step - loss: 7541.5854 - mae: 7541.5854\n",
      "Epoch 71/200\n",
      "34/34 [==============================] - 0s 2ms/step - loss: 7524.0459 - mae: 7524.0459\n",
      "Epoch 72/200\n",
      "34/34 [==============================] - 0s 2ms/step - loss: 7505.2046 - mae: 7505.2046\n",
      "Epoch 73/200\n",
      "34/34 [==============================] - 0s 1ms/step - loss: 7486.7554 - mae: 7486.7554\n",
      "Epoch 74/200\n",
      "34/34 [==============================] - 0s 2ms/step - loss: 7468.4370 - mae: 7468.4370\n",
      "Epoch 75/200\n",
      "34/34 [==============================] - 0s 1ms/step - loss: 7449.5679 - mae: 7449.5679\n",
      "Epoch 76/200\n",
      "34/34 [==============================] - 0s 2ms/step - loss: 7431.7661 - mae: 7431.7661\n",
      "Epoch 77/200\n",
      "34/34 [==============================] - 0s 2ms/step - loss: 7411.9995 - mae: 7411.9995\n",
      "Epoch 78/200\n",
      "34/34 [==============================] - 0s 2ms/step - loss: 7392.9653 - mae: 7392.9653\n",
      "Epoch 79/200\n",
      "34/34 [==============================] - 0s 1ms/step - loss: 7373.7925 - mae: 7373.7925\n",
      "Epoch 80/200\n",
      "34/34 [==============================] - 0s 1ms/step - loss: 7355.1606 - mae: 7355.1606\n",
      "Epoch 81/200\n"
     ]
    },
    {
     "name": "stdout",
     "output_type": "stream",
     "text": [
      "34/34 [==============================] - 0s 1ms/step - loss: 7335.0864 - mae: 7335.0864\n",
      "Epoch 82/200\n",
      "34/34 [==============================] - 0s 2ms/step - loss: 7314.9897 - mae: 7314.9897\n",
      "Epoch 83/200\n",
      "34/34 [==============================] - 0s 1ms/step - loss: 7294.5952 - mae: 7294.5952\n",
      "Epoch 84/200\n",
      "34/34 [==============================] - 0s 1ms/step - loss: 7274.3540 - mae: 7274.3540\n",
      "Epoch 85/200\n",
      "34/34 [==============================] - 0s 1ms/step - loss: 7253.0977 - mae: 7253.0977\n",
      "Epoch 86/200\n",
      "34/34 [==============================] - 0s 1ms/step - loss: 7232.2056 - mae: 7232.2056\n",
      "Epoch 87/200\n",
      "34/34 [==============================] - 0s 1ms/step - loss: 7211.0698 - mae: 7211.0698\n",
      "Epoch 88/200\n",
      "34/34 [==============================] - 0s 1ms/step - loss: 7189.6011 - mae: 7189.6011\n",
      "Epoch 89/200\n",
      "34/34 [==============================] - 0s 1ms/step - loss: 7167.9951 - mae: 7167.9951\n",
      "Epoch 90/200\n",
      "34/34 [==============================] - 0s 2ms/step - loss: 7145.4302 - mae: 7145.4302\n",
      "Epoch 91/200\n",
      "34/34 [==============================] - 0s 2ms/step - loss: 7122.7583 - mae: 7122.7583\n",
      "Epoch 92/200\n",
      "34/34 [==============================] - 0s 1ms/step - loss: 7099.6860 - mae: 7099.6860\n",
      "Epoch 93/200\n",
      "34/34 [==============================] - 0s 2ms/step - loss: 7076.6841 - mae: 7076.6841\n",
      "Epoch 94/200\n",
      "34/34 [==============================] - 0s 1ms/step - loss: 7053.3052 - mae: 7053.3052\n",
      "Epoch 95/200\n",
      "34/34 [==============================] - 0s 1ms/step - loss: 7029.8140 - mae: 7029.8140\n",
      "Epoch 96/200\n",
      "34/34 [==============================] - 0s 1ms/step - loss: 7005.0620 - mae: 7005.0620\n",
      "Epoch 97/200\n",
      "34/34 [==============================] - 0s 2ms/step - loss: 6980.3130 - mae: 6980.3130\n",
      "Epoch 98/200\n",
      "34/34 [==============================] - 0s 2ms/step - loss: 6955.0537 - mae: 6955.0537\n",
      "Epoch 99/200\n",
      "34/34 [==============================] - 0s 1ms/step - loss: 6929.3062 - mae: 6929.3062\n",
      "Epoch 100/200\n",
      "34/34 [==============================] - 0s 2ms/step - loss: 6903.8071 - mae: 6903.8071\n",
      "Epoch 101/200\n",
      "34/34 [==============================] - 0s 1ms/step - loss: 6877.9497 - mae: 6877.9497\n",
      "Epoch 102/200\n",
      "34/34 [==============================] - 0s 1ms/step - loss: 6850.9282 - mae: 6850.9282\n",
      "Epoch 103/200\n",
      "34/34 [==============================] - 0s 2ms/step - loss: 6823.1938 - mae: 6823.1938\n",
      "Epoch 104/200\n",
      "34/34 [==============================] - 0s 1ms/step - loss: 6795.5825 - mae: 6795.5825\n",
      "Epoch 105/200\n",
      "34/34 [==============================] - 0s 1ms/step - loss: 6767.2202 - mae: 6767.2202\n",
      "Epoch 106/200\n",
      "34/34 [==============================] - 0s 1ms/step - loss: 6738.8506 - mae: 6738.8506\n",
      "Epoch 107/200\n",
      "34/34 [==============================] - 0s 1ms/step - loss: 6709.5430 - mae: 6709.5430\n",
      "Epoch 108/200\n",
      "34/34 [==============================] - 0s 2ms/step - loss: 6679.6514 - mae: 6679.6514\n",
      "Epoch 109/200\n",
      "34/34 [==============================] - 0s 6ms/step - loss: 6649.9941 - mae: 6649.9941\n",
      "Epoch 110/200\n",
      "34/34 [==============================] - 0s 2ms/step - loss: 6618.9082 - mae: 6618.9082\n",
      "Epoch 111/200\n",
      "34/34 [==============================] - 0s 1ms/step - loss: 6588.0698 - mae: 6588.0698\n",
      "Epoch 112/200\n",
      "34/34 [==============================] - 0s 1ms/step - loss: 6557.1738 - mae: 6557.1738\n",
      "Epoch 113/200\n",
      "34/34 [==============================] - 0s 1ms/step - loss: 6522.1440 - mae: 6522.1440\n",
      "Epoch 114/200\n",
      "34/34 [==============================] - 0s 1ms/step - loss: 6489.5767 - mae: 6489.5767\n",
      "Epoch 115/200\n",
      "34/34 [==============================] - 0s 1ms/step - loss: 6455.3530 - mae: 6455.3530\n",
      "Epoch 116/200\n",
      "34/34 [==============================] - 0s 1ms/step - loss: 6420.5015 - mae: 6420.5015\n",
      "Epoch 117/200\n",
      "34/34 [==============================] - 0s 1ms/step - loss: 6385.3804 - mae: 6385.3804\n",
      "Epoch 118/200\n",
      "34/34 [==============================] - 0s 1ms/step - loss: 6349.7930 - mae: 6349.7930\n",
      "Epoch 119/200\n",
      "34/34 [==============================] - 0s 1ms/step - loss: 6312.7051 - mae: 6312.7051\n",
      "Epoch 120/200\n",
      "34/34 [==============================] - 0s 1ms/step - loss: 6275.7207 - mae: 6275.7207\n",
      "Epoch 121/200\n",
      "34/34 [==============================] - 0s 1ms/step - loss: 6238.1978 - mae: 6238.1978\n",
      "Epoch 122/200\n",
      "34/34 [==============================] - 0s 1ms/step - loss: 6198.5820 - mae: 6198.5820\n",
      "Epoch 123/200\n",
      "34/34 [==============================] - 0s 1ms/step - loss: 6157.8726 - mae: 6157.8726\n",
      "Epoch 124/200\n",
      "34/34 [==============================] - 0s 1ms/step - loss: 6118.0381 - mae: 6118.0381\n",
      "Epoch 125/200\n",
      "34/34 [==============================] - 0s 1ms/step - loss: 6075.8076 - mae: 6075.8076\n",
      "Epoch 126/200\n",
      "34/34 [==============================] - 0s 1ms/step - loss: 6033.0381 - mae: 6033.0381\n",
      "Epoch 127/200\n",
      "34/34 [==============================] - 0s 1ms/step - loss: 5990.7285 - mae: 5990.7285\n",
      "Epoch 128/200\n",
      "34/34 [==============================] - 0s 1ms/step - loss: 5946.4258 - mae: 5946.4258\n",
      "Epoch 129/200\n",
      "34/34 [==============================] - 0s 1ms/step - loss: 5902.4106 - mae: 5902.4106\n",
      "Epoch 130/200\n",
      "34/34 [==============================] - 0s 1ms/step - loss: 5855.4688 - mae: 5855.4688\n",
      "Epoch 131/200\n",
      "34/34 [==============================] - 0s 1ms/step - loss: 5809.2583 - mae: 5809.2583\n",
      "Epoch 132/200\n",
      "34/34 [==============================] - 0s 1ms/step - loss: 5761.3755 - mae: 5761.3755\n",
      "Epoch 133/200\n",
      "34/34 [==============================] - 0s 1ms/step - loss: 5711.5767 - mae: 5711.5767\n",
      "Epoch 134/200\n",
      "34/34 [==============================] - 0s 1ms/step - loss: 5661.7871 - mae: 5661.7871\n",
      "Epoch 135/200\n",
      "34/34 [==============================] - 0s 1ms/step - loss: 5611.3184 - mae: 5611.3184\n",
      "Epoch 136/200\n",
      "34/34 [==============================] - 0s 1ms/step - loss: 5559.6279 - mae: 5559.6279\n",
      "Epoch 137/200\n",
      "34/34 [==============================] - 0s 1ms/step - loss: 5507.4707 - mae: 5507.4707\n",
      "Epoch 138/200\n",
      "34/34 [==============================] - 0s 1ms/step - loss: 5455.2495 - mae: 5455.2495\n",
      "Epoch 139/200\n",
      "34/34 [==============================] - 0s 1ms/step - loss: 5404.1299 - mae: 5404.1299\n",
      "Epoch 140/200\n",
      "34/34 [==============================] - 0s 1ms/step - loss: 5351.6055 - mae: 5351.6055\n",
      "Epoch 141/200\n",
      "34/34 [==============================] - 0s 1ms/step - loss: 5297.0679 - mae: 5297.0679\n",
      "Epoch 142/200\n",
      "34/34 [==============================] - 0s 1ms/step - loss: 5242.4419 - mae: 5242.4419\n",
      "Epoch 143/200\n",
      "34/34 [==============================] - 0s 1ms/step - loss: 5185.8364 - mae: 5185.8364\n",
      "Epoch 144/200\n",
      "34/34 [==============================] - 0s 1ms/step - loss: 5130.3252 - mae: 5130.3252\n",
      "Epoch 145/200\n",
      "34/34 [==============================] - 0s 1ms/step - loss: 5073.8481 - mae: 5073.8481\n",
      "Epoch 146/200\n",
      "34/34 [==============================] - 0s 1ms/step - loss: 5018.3188 - mae: 5018.3188\n",
      "Epoch 147/200\n",
      "34/34 [==============================] - 0s 1ms/step - loss: 4960.2173 - mae: 4960.2173\n",
      "Epoch 148/200\n",
      "34/34 [==============================] - 0s 1ms/step - loss: 4901.9209 - mae: 4901.9209\n",
      "Epoch 149/200\n",
      "34/34 [==============================] - 0s 1ms/step - loss: 4843.2832 - mae: 4843.2832\n",
      "Epoch 150/200\n",
      "34/34 [==============================] - 0s 1ms/step - loss: 4784.5898 - mae: 4784.5898\n",
      "Epoch 151/200\n",
      "34/34 [==============================] - 0s 1ms/step - loss: 4725.8320 - mae: 4725.8320\n",
      "Epoch 152/200\n",
      "34/34 [==============================] - 0s 1ms/step - loss: 4667.6577 - mae: 4667.6577\n",
      "Epoch 153/200\n",
      "34/34 [==============================] - 0s 1ms/step - loss: 4610.1387 - mae: 4610.1387\n",
      "Epoch 154/200\n",
      "34/34 [==============================] - 0s 1ms/step - loss: 4553.3037 - mae: 4553.3037\n",
      "Epoch 155/200\n",
      "34/34 [==============================] - 0s 1ms/step - loss: 4497.5483 - mae: 4497.5483\n",
      "Epoch 156/200\n",
      "34/34 [==============================] - 0s 1ms/step - loss: 4440.7144 - mae: 4440.7144\n",
      "Epoch 157/200\n",
      "34/34 [==============================] - 0s 1ms/step - loss: 4387.4678 - mae: 4387.4678\n",
      "Epoch 158/200\n",
      "34/34 [==============================] - 0s 1ms/step - loss: 4335.4629 - mae: 4335.4629\n",
      "Epoch 159/200\n",
      "34/34 [==============================] - 0s 1ms/step - loss: 4285.1592 - mae: 4285.1592\n",
      "Epoch 160/200\n",
      "34/34 [==============================] - 0s 1ms/step - loss: 4235.4404 - mae: 4235.4404\n",
      "Epoch 161/200\n"
     ]
    },
    {
     "name": "stdout",
     "output_type": "stream",
     "text": [
      "34/34 [==============================] - 0s 1ms/step - loss: 4188.4355 - mae: 4188.4355\n",
      "Epoch 162/200\n",
      "34/34 [==============================] - 0s 1ms/step - loss: 4141.7642 - mae: 4141.7642\n",
      "Epoch 163/200\n",
      "34/34 [==============================] - 0s 1ms/step - loss: 4100.3921 - mae: 4100.3921\n",
      "Epoch 164/200\n",
      "34/34 [==============================] - 0s 1ms/step - loss: 4059.0588 - mae: 4059.0588\n",
      "Epoch 165/200\n",
      "34/34 [==============================] - 0s 1ms/step - loss: 4021.1887 - mae: 4021.1887\n",
      "Epoch 166/200\n",
      "34/34 [==============================] - 0s 1ms/step - loss: 3984.8772 - mae: 3984.8772\n",
      "Epoch 167/200\n",
      "34/34 [==============================] - 0s 1ms/step - loss: 3950.6384 - mae: 3950.6384\n",
      "Epoch 168/200\n",
      "34/34 [==============================] - 0s 1ms/step - loss: 3920.1006 - mae: 3920.1006\n",
      "Epoch 169/200\n",
      "34/34 [==============================] - 0s 1ms/step - loss: 3890.2898 - mae: 3890.2898\n",
      "Epoch 170/200\n",
      "34/34 [==============================] - 0s 1ms/step - loss: 3864.5107 - mae: 3864.5107\n",
      "Epoch 171/200\n",
      "34/34 [==============================] - 0s 1ms/step - loss: 3839.8301 - mae: 3839.8301\n",
      "Epoch 172/200\n",
      "34/34 [==============================] - 0s 1ms/step - loss: 3818.5513 - mae: 3818.5513\n",
      "Epoch 173/200\n",
      "34/34 [==============================] - 0s 1ms/step - loss: 3798.5464 - mae: 3798.5464\n",
      "Epoch 174/200\n",
      "34/34 [==============================] - 0s 1ms/step - loss: 3780.4836 - mae: 3780.4836\n",
      "Epoch 175/200\n",
      "34/34 [==============================] - 0s 1ms/step - loss: 3764.7620 - mae: 3764.7620\n",
      "Epoch 176/200\n",
      "34/34 [==============================] - 0s 1ms/step - loss: 3751.6255 - mae: 3751.6255\n",
      "Epoch 177/200\n",
      "34/34 [==============================] - 0s 1ms/step - loss: 3740.8977 - mae: 3740.8977\n",
      "Epoch 178/200\n",
      "34/34 [==============================] - 0s 1ms/step - loss: 3731.1094 - mae: 3731.1094\n",
      "Epoch 179/200\n",
      "34/34 [==============================] - 0s 1ms/step - loss: 3721.4680 - mae: 3721.4680\n",
      "Epoch 180/200\n",
      "34/34 [==============================] - 0s 1ms/step - loss: 3715.5081 - mae: 3715.5081\n",
      "Epoch 181/200\n",
      "34/34 [==============================] - 0s 1ms/step - loss: 3708.4114 - mae: 3708.4114\n",
      "Epoch 182/200\n",
      "34/34 [==============================] - 0s 1ms/step - loss: 3702.7527 - mae: 3702.7527\n",
      "Epoch 183/200\n",
      "34/34 [==============================] - 0s 1ms/step - loss: 3697.9272 - mae: 3697.9272\n",
      "Epoch 184/200\n",
      "34/34 [==============================] - 0s 1ms/step - loss: 3694.6658 - mae: 3694.6658\n",
      "Epoch 185/200\n",
      "34/34 [==============================] - 0s 1ms/step - loss: 3691.0630 - mae: 3691.0630\n",
      "Epoch 186/200\n",
      "34/34 [==============================] - 0s 1ms/step - loss: 3688.7769 - mae: 3688.7769\n",
      "Epoch 187/200\n",
      "34/34 [==============================] - 0s 1ms/step - loss: 3686.4148 - mae: 3686.4148\n",
      "Epoch 188/200\n",
      "34/34 [==============================] - 0s 1ms/step - loss: 3683.6440 - mae: 3683.6440\n",
      "Epoch 189/200\n",
      "34/34 [==============================] - 0s 1ms/step - loss: 3682.3660 - mae: 3682.3660\n",
      "Epoch 190/200\n",
      "34/34 [==============================] - 0s 1ms/step - loss: 3680.7366 - mae: 3680.7366\n",
      "Epoch 191/200\n",
      "34/34 [==============================] - 0s 1ms/step - loss: 3677.9221 - mae: 3677.9221\n",
      "Epoch 192/200\n",
      "34/34 [==============================] - 0s 1ms/step - loss: 3676.9053 - mae: 3676.9053\n",
      "Epoch 193/200\n",
      "34/34 [==============================] - 0s 1ms/step - loss: 3675.2185 - mae: 3675.2185\n",
      "Epoch 194/200\n",
      "34/34 [==============================] - 0s 1ms/step - loss: 3674.4167 - mae: 3674.4167\n",
      "Epoch 195/200\n",
      "34/34 [==============================] - 0s 1ms/step - loss: 3672.6660 - mae: 3672.6660\n",
      "Epoch 196/200\n",
      "34/34 [==============================] - 0s 1ms/step - loss: 3671.1975 - mae: 3671.1975\n",
      "Epoch 197/200\n",
      "34/34 [==============================] - 0s 2ms/step - loss: 3670.6030 - mae: 3670.6030\n",
      "Epoch 198/200\n",
      "34/34 [==============================] - 0s 1ms/step - loss: 3668.9636 - mae: 3668.9636\n",
      "Epoch 199/200\n",
      "34/34 [==============================] - 0s 2ms/step - loss: 3668.5608 - mae: 3668.5608\n",
      "Epoch 200/200\n",
      "34/34 [==============================] - 0s 1ms/step - loss: 3666.4104 - mae: 3666.4104\n"
     ]
    }
   ],
   "source": [
    "model.compile(loss='mae',\n",
    "                  optimizer=tf.keras.optimizers.Adam(learning_rate=0.001),\n",
    "                  metrics=['mae'])\n",
    "\n",
    "history = model.fit(x_train_normal,\n",
    "                        y_train,\n",
    "                        epochs=200)"
   ]
  },
  {
   "cell_type": "markdown",
   "id": "4e23f203",
   "metadata": {},
   "source": [
    "### Model evaluation "
   ]
  },
  {
   "cell_type": "code",
   "execution_count": 147,
   "id": "9bb5e586",
   "metadata": {},
   "outputs": [
    {
     "data": {
      "text/plain": [
       "Text(0.5, 0, 'epochs')"
      ]
     },
     "execution_count": 147,
     "metadata": {},
     "output_type": "execute_result"
    },
    {
     "data": {
      "image/png": "[encoded data removed]",
      "text/plain": [
       "<Figure size 432x288 with 1 Axes>"
      ]
     },
     "metadata": {
      "needs_background": "light"
     },
     "output_type": "display_data"
    }
   ],
   "source": [
    "pd.DataFrame(history.history).plot()\n",
    "plt.ylabel(\"loss\")\n",
    "plt.xlabel(\"epochs\")"
   ]
  },
  {
   "cell_type": "markdown",
   "id": "672b5d65",
   "metadata": {},
   "source": [
    "## Linear regression "
   ]
  },
  {
   "cell_type": "markdown",
   "id": "26430c50",
   "metadata": {},
   "source": [
    "### Model"
   ]
  },
  {
   "cell_type": "code",
   "execution_count": 148,
   "id": "5432def8",
   "metadata": {},
   "outputs": [],
   "source": [
    "x_train_regression,x_test_regression,y_train_regression,y_test_regression = train_test_split(X,y,test_size=0.10,random_state=101)\n",
    "\n",
    "x_train_regression_normal = ct.transform(x_train_regression)\n",
    "x_test_regression_normal = ct.transform(x_test_regression)"
   ]
  },
  {
   "cell_type": "code",
   "execution_count": 149,
   "id": "6c2b10a7",
   "metadata": {},
   "outputs": [],
   "source": [
    "# Train model\n",
    "linReg = LinearRegression()\n",
    "linReg.fit(x_train_regression_normal,y_train_regression) \n",
    "predictions = linReg.predict(x_test_regression_normal)"
   ]
  },
  {
   "cell_type": "code",
   "execution_count": 150,
   "id": "ff2375b1",
   "metadata": {},
   "outputs": [
    {
     "data": {
      "text/plain": [
       "0.7167334868832818"
      ]
     },
     "execution_count": 150,
     "metadata": {},
     "output_type": "execute_result"
    }
   ],
   "source": [
    "linReg.score(x_test_regression_normal,y_test_regression)"
   ]
  },
  {
   "cell_type": "code",
   "execution_count": 151,
   "id": "83f1d82a",
   "metadata": {},
   "outputs": [
    {
     "data": {
      "text/plain": [
       "0.7545037304745374"
      ]
     },
     "execution_count": 151,
     "metadata": {},
     "output_type": "execute_result"
    }
   ],
   "source": [
    "linReg.score(x_train_regression_normal,y_train_regression)"
   ]
  },
  {
   "cell_type": "code",
   "execution_count": 152,
   "id": "237e77be",
   "metadata": {},
   "outputs": [
    {
     "name": "stdout",
     "output_type": "stream",
     "text": [
      "MAE: 4590.390959651812\n",
      "MSE: 43118749.198145196\n",
      "RMSE: 6566.486823115173\n"
     ]
    }
   ],
   "source": [
    "print('MAE:', metrics.mean_absolute_error(y_test_regression, predictions))\n",
    "print('MSE:', metrics.mean_squared_error(y_test_regression, predictions))\n",
    "print('RMSE:', np.sqrt(metrics.mean_squared_error(y_test_regression, predictions)))"
   ]
  }
 ],
 "metadata": {
  "kernelspec": {
   "display_name": "Python 3 (ipykernel)",
   "language": "python",
   "name": "python3"
  },
  "language_info": {
   "codemirror_mode": {
    "name": "ipython",
    "version": 3
   },
   "file_extension": ".py",
   "mimetype": "text/x-python",
   "name": "python",
   "nbconvert_exporter": "python",
   "pygments_lexer": "ipython3",
   "version": "3.9.7"
  }
 },
 "nbformat": 4,
 "nbformat_minor": 5
}
